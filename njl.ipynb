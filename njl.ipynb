{
 "cells": [
  {
   "cell_type": "code",
   "execution_count": 34,
   "metadata": {
    "collapsed": false
   },
   "outputs": [
    {
     "ename": "LoadError",
     "evalue": "LoadError: StackOverflowError:\nwhile loading In[34], in expression starting on line 8",
     "output_type": "error",
     "traceback": [
      "LoadError: StackOverflowError:\nwhile loading In[34], in expression starting on line 8",
      "",
      " in quadgk at quadgk.jl:175",
      " in quadgk at quadgk.jl:176 (repeats 11134 times)",
      " in f! at In[34]:3",
      " in fg! at /home/summer/.julia/v0.4/NLsolve/src/differentiable_functions.jl:21",
      " in trust_region_ at /home/summer/.julia/v0.4/NLsolve/src/trust_region.jl:87",
      " in trust_region at /home/summer/.julia/v0.4/NLsolve/src/trust_region.jl:187",
      " in nlsolve at /home/summer/.julia/v0.4/NLsolve/src/nlsolve_func_defs.jl:24",
      " in nlsolve at /home/summer/.julia/v0.4/NLsolve/src/nlsolve_func_defs.jl:70"
     ]
    }
   ],
   "source": [
    "using NLsolve\n",
    "function f!(x, fvec)\n",
    "    u = quadgk(y->(y[1]^2+y[2]^2)*x[1],[1,1],[2,2])[1]\n",
    "    fvec[1] = (x[1]+3)*(u-7)+18\n",
    "    fvec[2] = sin(x[2]*exp(x[1])-1)\n",
    "end\n",
    "\n",
    "nlsolve(f!, [ 0.0; 0.0])"
   ]
  },
  {
   "cell_type": "code",
   "execution_count": 25,
   "metadata": {
    "collapsed": false
   },
   "outputs": [
    {
     "ename": "LoadError",
     "evalue": "LoadError: MethodError: `+` has no method matching +(::Function, ::Int64)\nClosest candidates are:\n  +(::Any, ::Any, !Matched::Any, !Matched::Any...)\n  +(!Matched::Int64, ::Int64)\n  +(!Matched::Complex{Bool}, ::Real)\n  ...\nwhile loading In[25], in expression starting on line 24",
     "output_type": "error",
     "traceback": [
      "LoadError: MethodError: `+` has no method matching +(::Function, ::Int64)\nClosest candidates are:\n  +(::Any, ::Any, !Matched::Any, !Matched::Any...)\n  +(!Matched::Int64, ::Int64)\n  +(!Matched::Complex{Bool}, ::Real)\n  ...\nwhile loading In[25], in expression starting on line 24",
      "",
      " in f! at In[25]:11",
      " in fg! at /home/summer/.julia/v0.4/NLsolve/src/differentiable_functions.jl:21",
      " in trust_region_ at /home/summer/.julia/v0.4/NLsolve/src/trust_region.jl:87",
      " in trust_region at /home/summer/.julia/v0.4/NLsolve/src/trust_region.jl:187",
      " in nlsolve at /home/summer/.julia/v0.4/NLsolve/src/nlsolve_func_defs.jl:24",
      " in nlsolve at /home/summer/.julia/v0.4/NLsolve/src/nlsolve_func_defs.jl:70"
     ]
    }
   ],
   "source": [
    "using NLsolve,Cubature\n",
    "function f!(x,fvec)\n",
    "    μ = 260\n",
    "    G = 1.9/602.3^2\n",
    "    H = 1.74/602.3^2\n",
    "    K = 12.36/602.3^5\n",
    "    k⁺ = 2*K\n",
    "    Δ = -2*(H-1/4* k⁺*x[1])*x[2]\n",
    "    M = -4*(G-1/2*k*x[1])*x[1]+1/4* k⁺*x[2]^2\n",
    "    E = p->sqrt(p[1]^2+p[2]^2+p[3]^2 + M^2)\n",
    "    χω₈⁺ = (2*Δ* k⁺*x[2]+((E+μ)*M*(-4*G+4*k*x[1])/E))/sqrt((E+μ)^2+4*Δ^2)\n",
    "    sω₈⁺ = (4*Δ*(-2*(H-1/4* k⁺*x[1]))+((E+μ)*M* k⁺*x[2]^2)/E)/sqrt((E+μ)^2+4*Δ^2)\n",
    "    χω₈⁻ = (2*Δ* k⁺*x[2]+((E-μ)*M*(-4*G+4*k*x[1])/E))/sqrt((E-μ)^2+4*Δ^2)\n",
    "    sω₈⁻ = (4*Δ*(-2*(H-1/4* k⁺*x[1]))+((E+μ)*M* k⁺*x[2]^2)/E)/sqrt((E+μ)^2+4*Δ^2)\n",
    "    χω₁⁺ = (1/2*Δ* k⁺*x[2]+((E+μ)*M*(-4*G+4*k*x[1])/E))/sqrt((E+μ)^2+4*Δ^2)\n",
    "    sω₁⁺ = (Δ*(-2*(H-1/4* k⁺*x[1]))+((E+μ)*M* k⁺*x[2]^2)/E)/sqrt((E+μ)^2+4*Δ^2)\n",
    "    χω₁⁻ = (1/2*Δ* k⁺*x[2]+((E-μ)*M*(-4*G+4*k*x[1])/E))/sqrt((E-μ)^2+4*Δ^2)\n",
    "    sω₁⁻ = (Δ*(-2*(H-1/4* k⁺*x[1]))+((E-μ)*M* k⁺*x[2]^2)/E)/sqrt((E-μ)^2+4*Δ^2)\n",
    "    a   = hcubature(p->8(χω₈⁺+χω₈⁻)+χω₁⁺+χω₁⁻,[0,0,0],[602.3,602.3,602.3];)[1]\n",
    "    b   = hcubature(p->8(sω₈⁺+sω₈⁻)+sω₁⁺+sω₁⁻,[0,0,0],[602.3,602.3,602.3];)[1]\n",
    "    fvec[1]=  a + 12*g*x[1]-12*k*x[1]^2-3/2* k⁺*x[2]^2\n",
    "    fvec[2]= b + 6*H*x[2]-3* k⁺*x[1]*x[2]\n",
    "end\n",
    "nlsolve(f!,[41.5;34.5])"
   ]
  },
  {
   "cell_type": "code",
   "execution_count": 45,
   "metadata": {
    "collapsed": false
   },
   "outputs": [
    {
     "data": {
      "text/plain": [
       "f! (generic function with 2 methods)"
      ]
     },
     "execution_count": 45,
     "metadata": {},
     "output_type": "execute_result"
    }
   ],
   "source": [
    "using Cubature\n",
    "function f!(x,fvec)\n",
    "μ = 260\n",
    "    G = 1.9/602.3^2\n",
    "    H = 1.74/602.3^2\n",
    "    K = 12.36/602.3^5\n",
    "    k⁺ = 2*K\n",
    "    Δ = -2*(H-1/4* k⁺*x[1])*x[2]\n",
    "    M = -4*(G-1/2*k*x[1])*x[1]+1/4* k⁺*x[2]^2\n",
    "    E = p->sqrt(p[1]^2+p[2]^2+p[3]^2 + M^2)\n",
    "    χω₈⁺ = (2*Δ* k⁺*x[2]+((E+μ)*M*(-4*G+4*k*x[1])/E))/sqrt((E+μ)^2+4*Δ^2)\n",
    "    sω₈⁺ = (4*Δ*(-2*(H-1/4* k⁺*x[1]))+((E+μ)*M* k⁺*x[2]^2)/E)/sqrt((E+μ)^2+4*Δ^2)\n",
    "    χω₈⁻ = (2*Δ* k⁺*x[2]+((E-μ)*M*(-4*G+4*k*x[1])/E))/sqrt((E-μ)^2+4*Δ^2)\n",
    "    sω₈⁻ = (4*Δ*(-2*(H-1/4* k⁺*x[1]))+((E+μ)*M* k⁺*x[2]^2)/E)/sqrt((E+μ)^2+4*Δ^2)\n",
    "    χω₁⁺ = (1/2*Δ* k⁺*x[2]+((E+μ)*M*(-4*G+4*k*x[1])/E))/sqrt((E+μ)^2+4*Δ^2)\n",
    "    sω₁⁺ = (Δ*(-2*(H-1/4* k⁺*x[1]))+((E+μ)*M* k⁺*x[2]^2)/E)/sqrt((E+μ)^2+4*Δ^2)\n",
    "    χω₁⁻ = (1/2*Δ* k⁺*x[2]+((E-μ)*M*(-4*G+4*k*x[1])/E))/sqrt((E-μ)^2+4*Δ^2)\n",
    "    sω₁⁻ = (Δ*(-2*(H-1/4* k⁺*x[1]))+((E-μ)*M* k⁺*x[2]^2)/E)/sqrt((E-μ)^2+4*Δ^2)\n",
    "    a   =x-> hcubature(p->8(χω₈⁺+χω₈⁻)+χω₁⁺+χω₁⁻,[0,0,0],[602.3,602.3,602.3];)\n",
    "    b   = x->hcubature(p->8(sω₈⁺+sω₈⁻)+sω₁⁺+sω₁⁻,[0,0,0],[602.3,602.3,602.3];)\n",
    "    fvec[1]=  a[1] + 12*g*x[1]-12*k*x[1]^2-3/2* k⁺*x[2]^2\n",
    "    fvec[2]= b[1] + 6*H*x[2]-3* k⁺*x[1]*x[2]\n",
    "    a\n",
    "end"
   ]
  }
 ],
 "metadata": {
  "kernelspec": {
   "display_name": "Julia 0.4.6",
   "language": "julia",
   "name": "julia-0.4"
  },
  "language_info": {
   "file_extension": ".jl",
   "mimetype": "application/julia",
   "name": "julia",
   "version": "0.4.6"
  }
 },
 "nbformat": 4,
 "nbformat_minor": 0
}
